{
 "cells": [
  {
   "cell_type": "markdown",
   "metadata": {},
   "source": [
    "CS4375 HW9\n",
    "\n",
    "Ramesh Kanakala\n",
    "\n",
    "This is a Python notebook with the purpose of running classification algorithms on a hotel bookings data set to compare it's performance with R classification."
   ]
  },
  {
   "cell_type": "markdown",
   "metadata": {},
   "source": [
    "#### Initial Data Exploration and Cleaning"
   ]
  },
  {
   "cell_type": "markdown",
   "metadata": {},
   "source": [
    "Check out the Kaggle link for more information on the data set and its variables: https://www.kaggle.com/jessemostipak/hotel-booking-demand"
   ]
  },
  {
   "cell_type": "code",
   "execution_count": 13,
   "metadata": {},
   "outputs": [],
   "source": [
    "import pandas as pd\n",
    "#load data\n",
    "df = pd.read_csv('hotel_bookings.csv', header=0)"
   ]
  },
  {
   "cell_type": "code",
   "execution_count": 14,
   "metadata": {},
   "outputs": [
    {
     "name": "stdout",
     "output_type": "stream",
     "text": [
      "<class 'pandas.core.frame.DataFrame'>\n",
      "RangeIndex: 119390 entries, 0 to 119389\n",
      "Data columns (total 32 columns):\n",
      " #   Column                          Non-Null Count   Dtype  \n",
      "---  ------                          --------------   -----  \n",
      " 0   hotel                           119390 non-null  object \n",
      " 1   is_canceled                     119390 non-null  int64  \n",
      " 2   lead_time                       119390 non-null  int64  \n",
      " 3   arrival_date_year               119390 non-null  int64  \n",
      " 4   arrival_date_month              119390 non-null  object \n",
      " 5   arrival_date_week_number        119390 non-null  int64  \n",
      " 6   arrival_date_day_of_month       119390 non-null  int64  \n",
      " 7   stays_in_weekend_nights         119390 non-null  int64  \n",
      " 8   stays_in_week_nights            119390 non-null  int64  \n",
      " 9   adults                          119390 non-null  int64  \n",
      " 10  children                        119386 non-null  float64\n",
      " 11  babies                          119390 non-null  int64  \n",
      " 12  meal                            119390 non-null  object \n",
      " 13  country                         118902 non-null  object \n",
      " 14  market_segment                  119390 non-null  object \n",
      " 15  distribution_channel            119390 non-null  object \n",
      " 16  is_repeated_guest               119390 non-null  int64  \n",
      " 17  previous_cancellations          119390 non-null  int64  \n",
      " 18  previous_bookings_not_canceled  119390 non-null  int64  \n",
      " 19  reserved_room_type              119390 non-null  object \n",
      " 20  assigned_room_type              119390 non-null  object \n",
      " 21  booking_changes                 119390 non-null  int64  \n",
      " 22  deposit_type                    119390 non-null  object \n",
      " 23  agent                           103050 non-null  float64\n",
      " 24  company                         6797 non-null    float64\n",
      " 25  days_in_waiting_list            119390 non-null  int64  \n",
      " 26  customer_type                   119390 non-null  object \n",
      " 27  adr                             119390 non-null  float64\n",
      " 28  required_car_parking_spaces     119390 non-null  int64  \n",
      " 29  total_of_special_requests       119390 non-null  int64  \n",
      " 30  reservation_status              119390 non-null  object \n",
      " 31  reservation_status_date         119390 non-null  object \n",
      "dtypes: float64(4), int64(16), object(12)\n",
      "memory usage: 29.1+ MB\n"
     ]
    }
   ],
   "source": [
    "#exploration function 1\n",
    "df.info()"
   ]
  },
  {
   "cell_type": "code",
   "execution_count": 15,
   "metadata": {},
   "outputs": [],
   "source": [
    "#cleaning: dropping unnecessary numerical columns\n",
    "df.drop(['arrival_date_year', 'arrival_date_day_of_month', \\\n",
    "                 'booking_changes', 'days_in_waiting_list', 'agent', 'company'], axis=1, inplace=True)\n",
    "#cleaning: dropping unnecessary categorical columns\n",
    "df.drop(['country', 'assigned_room_type', 'reservation_status', 'reservation_status_date'], axis=1, inplace=True)"
   ]
  },
  {
   "cell_type": "code",
   "execution_count": 16,
   "metadata": {},
   "outputs": [
    {
     "data": {
      "text/html": [
       "<div>\n",
       "<style scoped>\n",
       "    .dataframe tbody tr th:only-of-type {\n",
       "        vertical-align: middle;\n",
       "    }\n",
       "\n",
       "    .dataframe tbody tr th {\n",
       "        vertical-align: top;\n",
       "    }\n",
       "\n",
       "    .dataframe thead th {\n",
       "        text-align: right;\n",
       "    }\n",
       "</style>\n",
       "<table border=\"1\" class=\"dataframe\">\n",
       "  <thead>\n",
       "    <tr style=\"text-align: right;\">\n",
       "      <th></th>\n",
       "      <th>is_canceled</th>\n",
       "      <th>lead_time</th>\n",
       "      <th>arrival_date_week_number</th>\n",
       "      <th>stays_in_weekend_nights</th>\n",
       "      <th>stays_in_week_nights</th>\n",
       "      <th>adults</th>\n",
       "      <th>children</th>\n",
       "      <th>babies</th>\n",
       "      <th>is_repeated_guest</th>\n",
       "      <th>previous_cancellations</th>\n",
       "      <th>previous_bookings_not_canceled</th>\n",
       "      <th>adr</th>\n",
       "      <th>required_car_parking_spaces</th>\n",
       "      <th>total_of_special_requests</th>\n",
       "    </tr>\n",
       "  </thead>\n",
       "  <tbody>\n",
       "    <tr>\n",
       "      <th>count</th>\n",
       "      <td>119390.000000</td>\n",
       "      <td>119390.000000</td>\n",
       "      <td>119390.000000</td>\n",
       "      <td>119390.000000</td>\n",
       "      <td>119390.000000</td>\n",
       "      <td>119390.000000</td>\n",
       "      <td>119386.000000</td>\n",
       "      <td>119390.000000</td>\n",
       "      <td>119390.000000</td>\n",
       "      <td>119390.000000</td>\n",
       "      <td>119390.000000</td>\n",
       "      <td>119390.000000</td>\n",
       "      <td>119390.000000</td>\n",
       "      <td>119390.000000</td>\n",
       "    </tr>\n",
       "    <tr>\n",
       "      <th>mean</th>\n",
       "      <td>0.370416</td>\n",
       "      <td>104.011416</td>\n",
       "      <td>27.165173</td>\n",
       "      <td>0.927599</td>\n",
       "      <td>2.500302</td>\n",
       "      <td>1.856403</td>\n",
       "      <td>0.103890</td>\n",
       "      <td>0.007949</td>\n",
       "      <td>0.031912</td>\n",
       "      <td>0.087118</td>\n",
       "      <td>0.137097</td>\n",
       "      <td>101.831122</td>\n",
       "      <td>0.062518</td>\n",
       "      <td>0.571363</td>\n",
       "    </tr>\n",
       "    <tr>\n",
       "      <th>std</th>\n",
       "      <td>0.482918</td>\n",
       "      <td>106.863097</td>\n",
       "      <td>13.605138</td>\n",
       "      <td>0.998613</td>\n",
       "      <td>1.908286</td>\n",
       "      <td>0.579261</td>\n",
       "      <td>0.398561</td>\n",
       "      <td>0.097436</td>\n",
       "      <td>0.175767</td>\n",
       "      <td>0.844336</td>\n",
       "      <td>1.497437</td>\n",
       "      <td>50.535790</td>\n",
       "      <td>0.245291</td>\n",
       "      <td>0.792798</td>\n",
       "    </tr>\n",
       "    <tr>\n",
       "      <th>min</th>\n",
       "      <td>0.000000</td>\n",
       "      <td>0.000000</td>\n",
       "      <td>1.000000</td>\n",
       "      <td>0.000000</td>\n",
       "      <td>0.000000</td>\n",
       "      <td>0.000000</td>\n",
       "      <td>0.000000</td>\n",
       "      <td>0.000000</td>\n",
       "      <td>0.000000</td>\n",
       "      <td>0.000000</td>\n",
       "      <td>0.000000</td>\n",
       "      <td>-6.380000</td>\n",
       "      <td>0.000000</td>\n",
       "      <td>0.000000</td>\n",
       "    </tr>\n",
       "    <tr>\n",
       "      <th>25%</th>\n",
       "      <td>0.000000</td>\n",
       "      <td>18.000000</td>\n",
       "      <td>16.000000</td>\n",
       "      <td>0.000000</td>\n",
       "      <td>1.000000</td>\n",
       "      <td>2.000000</td>\n",
       "      <td>0.000000</td>\n",
       "      <td>0.000000</td>\n",
       "      <td>0.000000</td>\n",
       "      <td>0.000000</td>\n",
       "      <td>0.000000</td>\n",
       "      <td>69.290000</td>\n",
       "      <td>0.000000</td>\n",
       "      <td>0.000000</td>\n",
       "    </tr>\n",
       "    <tr>\n",
       "      <th>50%</th>\n",
       "      <td>0.000000</td>\n",
       "      <td>69.000000</td>\n",
       "      <td>28.000000</td>\n",
       "      <td>1.000000</td>\n",
       "      <td>2.000000</td>\n",
       "      <td>2.000000</td>\n",
       "      <td>0.000000</td>\n",
       "      <td>0.000000</td>\n",
       "      <td>0.000000</td>\n",
       "      <td>0.000000</td>\n",
       "      <td>0.000000</td>\n",
       "      <td>94.575000</td>\n",
       "      <td>0.000000</td>\n",
       "      <td>0.000000</td>\n",
       "    </tr>\n",
       "    <tr>\n",
       "      <th>75%</th>\n",
       "      <td>1.000000</td>\n",
       "      <td>160.000000</td>\n",
       "      <td>38.000000</td>\n",
       "      <td>2.000000</td>\n",
       "      <td>3.000000</td>\n",
       "      <td>2.000000</td>\n",
       "      <td>0.000000</td>\n",
       "      <td>0.000000</td>\n",
       "      <td>0.000000</td>\n",
       "      <td>0.000000</td>\n",
       "      <td>0.000000</td>\n",
       "      <td>126.000000</td>\n",
       "      <td>0.000000</td>\n",
       "      <td>1.000000</td>\n",
       "    </tr>\n",
       "    <tr>\n",
       "      <th>max</th>\n",
       "      <td>1.000000</td>\n",
       "      <td>737.000000</td>\n",
       "      <td>53.000000</td>\n",
       "      <td>19.000000</td>\n",
       "      <td>50.000000</td>\n",
       "      <td>55.000000</td>\n",
       "      <td>10.000000</td>\n",
       "      <td>10.000000</td>\n",
       "      <td>1.000000</td>\n",
       "      <td>26.000000</td>\n",
       "      <td>72.000000</td>\n",
       "      <td>5400.000000</td>\n",
       "      <td>8.000000</td>\n",
       "      <td>5.000000</td>\n",
       "    </tr>\n",
       "  </tbody>\n",
       "</table>\n",
       "</div>"
      ],
      "text/plain": [
       "         is_canceled      lead_time  arrival_date_week_number  \\\n",
       "count  119390.000000  119390.000000             119390.000000   \n",
       "mean        0.370416     104.011416                 27.165173   \n",
       "std         0.482918     106.863097                 13.605138   \n",
       "min         0.000000       0.000000                  1.000000   \n",
       "25%         0.000000      18.000000                 16.000000   \n",
       "50%         0.000000      69.000000                 28.000000   \n",
       "75%         1.000000     160.000000                 38.000000   \n",
       "max         1.000000     737.000000                 53.000000   \n",
       "\n",
       "       stays_in_weekend_nights  stays_in_week_nights         adults  \\\n",
       "count            119390.000000         119390.000000  119390.000000   \n",
       "mean                  0.927599              2.500302       1.856403   \n",
       "std                   0.998613              1.908286       0.579261   \n",
       "min                   0.000000              0.000000       0.000000   \n",
       "25%                   0.000000              1.000000       2.000000   \n",
       "50%                   1.000000              2.000000       2.000000   \n",
       "75%                   2.000000              3.000000       2.000000   \n",
       "max                  19.000000             50.000000      55.000000   \n",
       "\n",
       "            children         babies  is_repeated_guest  \\\n",
       "count  119386.000000  119390.000000      119390.000000   \n",
       "mean        0.103890       0.007949           0.031912   \n",
       "std         0.398561       0.097436           0.175767   \n",
       "min         0.000000       0.000000           0.000000   \n",
       "25%         0.000000       0.000000           0.000000   \n",
       "50%         0.000000       0.000000           0.000000   \n",
       "75%         0.000000       0.000000           0.000000   \n",
       "max        10.000000      10.000000           1.000000   \n",
       "\n",
       "       previous_cancellations  previous_bookings_not_canceled            adr  \\\n",
       "count           119390.000000                   119390.000000  119390.000000   \n",
       "mean                 0.087118                        0.137097     101.831122   \n",
       "std                  0.844336                        1.497437      50.535790   \n",
       "min                  0.000000                        0.000000      -6.380000   \n",
       "25%                  0.000000                        0.000000      69.290000   \n",
       "50%                  0.000000                        0.000000      94.575000   \n",
       "75%                  0.000000                        0.000000     126.000000   \n",
       "max                 26.000000                       72.000000    5400.000000   \n",
       "\n",
       "       required_car_parking_spaces  total_of_special_requests  \n",
       "count                119390.000000              119390.000000  \n",
       "mean                      0.062518                   0.571363  \n",
       "std                       0.245291                   0.792798  \n",
       "min                       0.000000                   0.000000  \n",
       "25%                       0.000000                   0.000000  \n",
       "50%                       0.000000                   0.000000  \n",
       "75%                       0.000000                   1.000000  \n",
       "max                       8.000000                   5.000000  "
      ]
     },
     "execution_count": 16,
     "metadata": {},
     "output_type": "execute_result"
    }
   ],
   "source": [
    "#exploration function 2\n",
    "df.describe()"
   ]
  },
  {
   "cell_type": "code",
   "execution_count": 40,
   "metadata": {},
   "outputs": [
    {
     "name": "stderr",
     "output_type": "stream",
     "text": [
      "<ipython-input-40-a6df3f817ec5>:12: SettingWithCopyWarning: \n",
      "A value is trying to be set on a copy of a slice from a DataFrame\n",
      "\n",
      "See the caveats in the documentation: https://pandas.pydata.org/pandas-docs/stable/user_guide/indexing.html#returning-a-view-versus-a-copy\n"
     ]
    }
   ],
   "source": [
    "#cleaning: changing variable data types\n",
    "df.hotel = df.hotel.astype('category').cat.codes\n",
    "df.arrival_date_month = df.arrival_date_month.astype('category').cat.codes\n",
    "df.is_canceled = df.is_canceled.astype('category').cat.codes\n",
    "df.meal = df.meal.astype('category').cat.codes\n",
    "df.market_segment = df.market_segment.astype('category').cat.codes\n",
    "df.distribution_channel = df.distribution_channel.astype('category').cat.codes\n",
    "df.is_repeated_guest = df.is_repeated_guest.astype('category').cat.codes\n",
    "df.reserved_room_type = df.reserved_room_type.astype('category').cat.codes\n",
    "df.deposit_type = df.deposit_type.astype('category').cat.codes\n",
    "df.customer_type = df.customer_type.astype('category').cat.codes\n",
    "df.adr[df.adr==5400] = 540"
   ]
  },
  {
   "cell_type": "code",
   "execution_count": 18,
   "metadata": {},
   "outputs": [],
   "source": [
    "#cleaning: dealing with missing values and obs with no guests\n",
    "df.children.fillna(0, inplace=True)"
   ]
  },
  {
   "cell_type": "code",
   "execution_count": 19,
   "metadata": {},
   "outputs": [
    {
     "data": {
      "text/plain": [
       "<bound method NDFrame.head of                hotel is_canceled  lead_time arrival_date_month  \\\n",
       "0       Resort Hotel           0        342               July   \n",
       "1       Resort Hotel           0        737               July   \n",
       "2       Resort Hotel           0          7               July   \n",
       "3       Resort Hotel           0         13               July   \n",
       "4       Resort Hotel           0         14               July   \n",
       "...              ...         ...        ...                ...   \n",
       "119385    City Hotel           0         23             August   \n",
       "119386    City Hotel           0        102             August   \n",
       "119387    City Hotel           0         34             August   \n",
       "119388    City Hotel           0        109             August   \n",
       "119389    City Hotel           0        205             August   \n",
       "\n",
       "        arrival_date_week_number  stays_in_weekend_nights  \\\n",
       "0                             27                        0   \n",
       "1                             27                        0   \n",
       "2                             27                        0   \n",
       "3                             27                        0   \n",
       "4                             27                        0   \n",
       "...                          ...                      ...   \n",
       "119385                        35                        2   \n",
       "119386                        35                        2   \n",
       "119387                        35                        2   \n",
       "119388                        35                        2   \n",
       "119389                        35                        2   \n",
       "\n",
       "        stays_in_week_nights  adults  children  babies  ...  \\\n",
       "0                          0       2       0.0       0  ...   \n",
       "1                          0       2       0.0       0  ...   \n",
       "2                          1       1       0.0       0  ...   \n",
       "3                          1       1       0.0       0  ...   \n",
       "4                          2       2       0.0       0  ...   \n",
       "...                      ...     ...       ...     ...  ...   \n",
       "119385                     5       2       0.0       0  ...   \n",
       "119386                     5       3       0.0       0  ...   \n",
       "119387                     5       2       0.0       0  ...   \n",
       "119388                     5       2       0.0       0  ...   \n",
       "119389                     7       2       0.0       0  ...   \n",
       "\n",
       "       distribution_channel is_repeated_guest previous_cancellations  \\\n",
       "0                    Direct                 0                      0   \n",
       "1                    Direct                 0                      0   \n",
       "2                    Direct                 0                      0   \n",
       "3                 Corporate                 0                      0   \n",
       "4                     TA/TO                 0                      0   \n",
       "...                     ...               ...                    ...   \n",
       "119385                TA/TO                 0                      0   \n",
       "119386                TA/TO                 0                      0   \n",
       "119387                TA/TO                 0                      0   \n",
       "119388                TA/TO                 0                      0   \n",
       "119389                TA/TO                 0                      0   \n",
       "\n",
       "       previous_bookings_not_canceled  reserved_room_type  deposit_type  \\\n",
       "0                                   0                   C    No Deposit   \n",
       "1                                   0                   C    No Deposit   \n",
       "2                                   0                   A    No Deposit   \n",
       "3                                   0                   A    No Deposit   \n",
       "4                                   0                   A    No Deposit   \n",
       "...                               ...                 ...           ...   \n",
       "119385                              0                   A    No Deposit   \n",
       "119386                              0                   E    No Deposit   \n",
       "119387                              0                   D    No Deposit   \n",
       "119388                              0                   A    No Deposit   \n",
       "119389                              0                   A    No Deposit   \n",
       "\n",
       "       customer_type     adr required_car_parking_spaces  \\\n",
       "0          Transient    0.00                           0   \n",
       "1          Transient    0.00                           0   \n",
       "2          Transient   75.00                           0   \n",
       "3          Transient   75.00                           0   \n",
       "4          Transient   98.00                           0   \n",
       "...              ...     ...                         ...   \n",
       "119385     Transient   96.14                           0   \n",
       "119386     Transient  225.43                           0   \n",
       "119387     Transient  157.71                           0   \n",
       "119388     Transient  104.40                           0   \n",
       "119389     Transient  151.20                           0   \n",
       "\n",
       "        total_of_special_requests  \n",
       "0                               0  \n",
       "1                               0  \n",
       "2                               0  \n",
       "3                               0  \n",
       "4                               1  \n",
       "...                           ...  \n",
       "119385                          0  \n",
       "119386                          2  \n",
       "119387                          4  \n",
       "119388                          0  \n",
       "119389                          2  \n",
       "\n",
       "[119390 rows x 22 columns]>"
      ]
     },
     "execution_count": 19,
     "metadata": {},
     "output_type": "execute_result"
    }
   ],
   "source": [
    "#exploration function 3\n",
    "df.head"
   ]
  },
  {
   "cell_type": "code",
   "execution_count": 20,
   "metadata": {},
   "outputs": [
    {
     "data": {
      "text/plain": [
       "<bound method NDFrame.tail of                hotel is_canceled  lead_time arrival_date_month  \\\n",
       "0       Resort Hotel           0        342               July   \n",
       "1       Resort Hotel           0        737               July   \n",
       "2       Resort Hotel           0          7               July   \n",
       "3       Resort Hotel           0         13               July   \n",
       "4       Resort Hotel           0         14               July   \n",
       "...              ...         ...        ...                ...   \n",
       "119385    City Hotel           0         23             August   \n",
       "119386    City Hotel           0        102             August   \n",
       "119387    City Hotel           0         34             August   \n",
       "119388    City Hotel           0        109             August   \n",
       "119389    City Hotel           0        205             August   \n",
       "\n",
       "        arrival_date_week_number  stays_in_weekend_nights  \\\n",
       "0                             27                        0   \n",
       "1                             27                        0   \n",
       "2                             27                        0   \n",
       "3                             27                        0   \n",
       "4                             27                        0   \n",
       "...                          ...                      ...   \n",
       "119385                        35                        2   \n",
       "119386                        35                        2   \n",
       "119387                        35                        2   \n",
       "119388                        35                        2   \n",
       "119389                        35                        2   \n",
       "\n",
       "        stays_in_week_nights  adults  children  babies  ...  \\\n",
       "0                          0       2       0.0       0  ...   \n",
       "1                          0       2       0.0       0  ...   \n",
       "2                          1       1       0.0       0  ...   \n",
       "3                          1       1       0.0       0  ...   \n",
       "4                          2       2       0.0       0  ...   \n",
       "...                      ...     ...       ...     ...  ...   \n",
       "119385                     5       2       0.0       0  ...   \n",
       "119386                     5       3       0.0       0  ...   \n",
       "119387                     5       2       0.0       0  ...   \n",
       "119388                     5       2       0.0       0  ...   \n",
       "119389                     7       2       0.0       0  ...   \n",
       "\n",
       "       distribution_channel is_repeated_guest previous_cancellations  \\\n",
       "0                    Direct                 0                      0   \n",
       "1                    Direct                 0                      0   \n",
       "2                    Direct                 0                      0   \n",
       "3                 Corporate                 0                      0   \n",
       "4                     TA/TO                 0                      0   \n",
       "...                     ...               ...                    ...   \n",
       "119385                TA/TO                 0                      0   \n",
       "119386                TA/TO                 0                      0   \n",
       "119387                TA/TO                 0                      0   \n",
       "119388                TA/TO                 0                      0   \n",
       "119389                TA/TO                 0                      0   \n",
       "\n",
       "       previous_bookings_not_canceled  reserved_room_type  deposit_type  \\\n",
       "0                                   0                   C    No Deposit   \n",
       "1                                   0                   C    No Deposit   \n",
       "2                                   0                   A    No Deposit   \n",
       "3                                   0                   A    No Deposit   \n",
       "4                                   0                   A    No Deposit   \n",
       "...                               ...                 ...           ...   \n",
       "119385                              0                   A    No Deposit   \n",
       "119386                              0                   E    No Deposit   \n",
       "119387                              0                   D    No Deposit   \n",
       "119388                              0                   A    No Deposit   \n",
       "119389                              0                   A    No Deposit   \n",
       "\n",
       "       customer_type     adr required_car_parking_spaces  \\\n",
       "0          Transient    0.00                           0   \n",
       "1          Transient    0.00                           0   \n",
       "2          Transient   75.00                           0   \n",
       "3          Transient   75.00                           0   \n",
       "4          Transient   98.00                           0   \n",
       "...              ...     ...                         ...   \n",
       "119385     Transient   96.14                           0   \n",
       "119386     Transient  225.43                           0   \n",
       "119387     Transient  157.71                           0   \n",
       "119388     Transient  104.40                           0   \n",
       "119389     Transient  151.20                           0   \n",
       "\n",
       "        total_of_special_requests  \n",
       "0                               0  \n",
       "1                               0  \n",
       "2                               0  \n",
       "3                               0  \n",
       "4                               1  \n",
       "...                           ...  \n",
       "119385                          0  \n",
       "119386                          2  \n",
       "119387                          4  \n",
       "119388                          0  \n",
       "119389                          2  \n",
       "\n",
       "[119390 rows x 22 columns]>"
      ]
     },
     "execution_count": 20,
     "metadata": {},
     "output_type": "execute_result"
    }
   ],
   "source": [
    "#exploration function 3 (cont.)\n",
    "df.tail"
   ]
  },
  {
   "cell_type": "code",
   "execution_count": 21,
   "metadata": {},
   "outputs": [
    {
     "name": "stdout",
     "output_type": "stream",
     "text": [
      "hotel         is_canceled\n",
      "City Hotel    0              46228\n",
      "              1              33102\n",
      "Resort Hotel  0              28938\n",
      "              1              11122\n",
      "dtype: int64\n",
      "0.716059531020161\n",
      "0.3843389315087428\n",
      "\n",
      " customer_type    is_canceled\n",
      "Transient        0              53099\n",
      "                 1              36514\n",
      "Transient-Party  0              18735\n",
      "                 1               6389\n",
      "Contract         0               2814\n",
      "                 1               1262\n",
      "Group            0                518\n",
      "                 1                 59\n",
      "dtype: int64\n",
      "0.4484719260838664\n",
      "0.1138996138996139\n",
      "0.34101948225246864\n",
      "0.6876589012975762\n"
     ]
    }
   ],
   "source": [
    "#exploration function 4\n",
    "table1 = df.value_counts([\"hotel\", \"is_canceled\"])\n",
    "print(table1)\n",
    "print(table1[1]/table1[0])\n",
    "print(table1[3]/table1[2])\n",
    "\n",
    "table2 = df.value_counts([\"customer_type\", \"is_canceled\"])\n",
    "print(\"\\n\", table2)\n",
    "print(table2[5]/table2[4])\n",
    "print(table2[7]/table2[6])\n",
    "print(table2[3]/table2[2])\n",
    "print(table2[1]/table2[0])"
   ]
  },
  {
   "cell_type": "code",
   "execution_count": 22,
   "metadata": {},
   "outputs": [
    {
     "data": {
      "image/png": "[encoded data removed]",
      "text/plain": [
       "<Figure size 640x480 with 4 Axes>"
      ]
     },
     "metadata": {},
     "output_type": "display_data"
    },
    {
     "data": {
      "text/plain": [
       "<ggplot: (167153933078)>"
      ]
     },
     "execution_count": 22,
     "metadata": {},
     "output_type": "execute_result"
    }
   ],
   "source": [
    "#exploration graph 1\n",
    "from plotnine import *\n",
    "ggplot(data = df, mapping = aes(x = 'is_canceled', fill = 'hotel')) + geom_bar() + \\\n",
    "facet_wrap('customer_type') + labs(title = \"Cancellation by Customer Type and Hotel\") + \\\n",
    "scale_x_discrete(name = \"Cancellation\", labels=(\"Stayed\", \"Canceled\")) + \\\n",
    "scale_fill_discrete(name = \"Hotel\", labels = (\"City\", \"Resort\"))"
   ]
  },
  {
   "cell_type": "code",
   "execution_count": 23,
   "metadata": {},
   "outputs": [
    {
     "data": {
      "image/png": "[encoded data removed]",
      "text/plain": [
       "<Figure size 640x480 with 4 Axes>"
      ]
     },
     "metadata": {},
     "output_type": "display_data"
    },
    {
     "data": {
      "text/plain": [
       "<ggplot: (167154257493)>"
      ]
     },
     "execution_count": 23,
     "metadata": {},
     "output_type": "execute_result"
    }
   ],
   "source": [
    "#exploration graph 2\n",
    "ggplot(data = df, mapping = aes(x = 'is_canceled', y = 'adr', fill = 'hotel')) + geom_boxplot() + \\\n",
    "facet_wrap('customer_type') + labs(title = \"Cancellation Adr Distribution by Customer Type and Hotel\") + \\\n",
    "scale_x_discrete(name = \"Cancellation\", labels=(\"Stayed\", \"Canceled\")) + \\\n",
    "scale_fill_discrete(name = \"Hotel\", labels = (\"City\", \"Resort\"))"
   ]
  },
  {
   "cell_type": "code",
   "execution_count": 24,
   "metadata": {},
   "outputs": [
    {
     "data": {
      "image/png": "[encoded data removed]",
      "text/plain": [
       "<Figure size 640x480 with 10 Axes>"
      ]
     },
     "metadata": {},
     "output_type": "display_data"
    },
    {
     "data": {
      "text/plain": [
       "<ggplot: (167155329347)>"
      ]
     },
     "execution_count": 24,
     "metadata": {},
     "output_type": "execute_result"
    }
   ],
   "source": [
    "#exploration graph 3\n",
    "ggplot(data = df, mapping = aes(x = 'is_canceled', y = 'arrival_date_week_number', fill = 'hotel')) + geom_boxplot() + \\\n",
    "facet_wrap('reserved_room_type') + labs(title = \"Cancellation Arrival Date Distribution by Room Type and Hotel\") + \\\n",
    "scale_x_discrete(name = \"Cancellation\", labels=(\"Stayed\", \"Canceled\")) + \\\n",
    "scale_fill_discrete(name = \"Hotel\", labels = (\"City\", \"Resort\"))"
   ]
  },
  {
   "cell_type": "markdown",
   "metadata": {},
   "source": [
    "#### Modeling"
   ]
  },
  {
   "cell_type": "code",
   "execution_count": 43,
   "metadata": {},
   "outputs": [
    {
     "name": "stdout",
     "output_type": "stream",
     "text": [
      "train size: (89542, 21)\n",
      "test size: (29848, 21)\n"
     ]
    }
   ],
   "source": [
    "# train test split\n",
    "from sklearn.model_selection import train_test_split\n",
    "X = df.iloc[:, df.columns != 'is_canceled']\n",
    "y = df.iloc[:, df.columns=='is_canceled']\n",
    "X_train, X_test, y_train, y_test = train_test_split(X, y,\n",
    "test_size=0.25, random_state=1234)\n",
    "print('train size:', X_train.shape)\n",
    "print('test size:', X_test.shape)"
   ]
  },
  {
   "cell_type": "code",
   "execution_count": 66,
   "metadata": {},
   "outputs": [
    {
     "name": "stderr",
     "output_type": "stream",
     "text": [
      "C:\\Users\\RaxyR\\anaconda3\\lib\\site-packages\\sklearn\\utils\\validation.py:72: DataConversionWarning: A column-vector y was passed when a 1d array was expected. Please change the shape of y to (n_samples, ), for example using ravel().\n"
     ]
    },
    {
     "name": "stdout",
     "output_type": "stream",
     "text": [
      "              precision    recall  f1-score   support\n",
      "\n",
      "           0       0.77      0.95      0.85     18749\n",
      "           1       0.87      0.52      0.65     11099\n",
      "\n",
      "    accuracy                           0.79     29848\n",
      "   macro avg       0.82      0.74      0.75     29848\n",
      "weighted avg       0.81      0.79      0.78     29848\n",
      "\n"
     ]
    }
   ],
   "source": [
    "#logistic regression model\n",
    "from sklearn.linear_model import LogisticRegression\n",
    "clf = LogisticRegression(solver='lbfgs', max_iter=10000)\n",
    "clf.fit(X_train, y_train)\n",
    "clf.score(X_train, y_train)\n",
    "\n",
    "# make predictions\n",
    "pred1 = clf.predict(X_test)\n",
    "from sklearn.metrics import classification_report\n",
    "print(classification_report(y_test, pred1))"
   ]
  },
  {
   "cell_type": "code",
   "execution_count": 68,
   "metadata": {},
   "outputs": [
    {
     "name": "stdout",
     "output_type": "stream",
     "text": [
      "              precision    recall  f1-score   support\n",
      "\n",
      "           0       0.72      0.72      0.72     18749\n",
      "           1       0.52      0.53      0.53     11099\n",
      "\n",
      "    accuracy                           0.65     29848\n",
      "   macro avg       0.62      0.62      0.62     29848\n",
      "weighted avg       0.65      0.65      0.65     29848\n",
      "\n"
     ]
    },
    {
     "name": "stderr",
     "output_type": "stream",
     "text": [
      "C:\\Users\\RaxyR\\anaconda3\\lib\\site-packages\\sklearn\\utils\\validation.py:72: DataConversionWarning: A column-vector y was passed when a 1d array was expected. Please change the shape of y to (n_samples, ), for example using ravel().\n"
     ]
    }
   ],
   "source": [
    "#naive bayes model\n",
    "from sklearn.naive_bayes import MultinomialNB\n",
    "clf = MultinomialNB()\n",
    "clf.fit(X_train, y_train)\n",
    "clf.score(X_train, y_train)\n",
    "\n",
    "# make predictions\n",
    "pred2 = clf.predict(X_test)\n",
    "print(classification_report(y_test, pred2))"
   ]
  },
  {
   "cell_type": "code",
   "execution_count": 69,
   "metadata": {},
   "outputs": [
    {
     "name": "stdout",
     "output_type": "stream",
     "text": [
      "              precision    recall  f1-score   support\n",
      "\n",
      "           0       0.86      0.85      0.86     18749\n",
      "           1       0.75      0.76      0.76     11099\n",
      "\n",
      "    accuracy                           0.82     29848\n",
      "   macro avg       0.81      0.81      0.81     29848\n",
      "weighted avg       0.82      0.82      0.82     29848\n",
      "\n"
     ]
    }
   ],
   "source": [
    "#decision tree model\n",
    "from sklearn.tree import DecisionTreeClassifier\n",
    "clf = DecisionTreeClassifier()\n",
    "clf.fit(X_train, y_train)\n",
    "clf.score(X_train, y_train)\n",
    "\n",
    "# make predictions\n",
    "pred3 = clf.predict(X_test)\n",
    "print(classification_report(y_test, pred3))"
   ]
  },
  {
   "cell_type": "markdown",
   "metadata": {},
   "source": [
    "Logistic regression actually performed just slightly worse with Python than with R (accuracy .79 < .81). Naive bayes on the other hand performed much better with Python (.65 > .46). Finally, the decision tree performed slightly better with Python as well (.82 > .80). Ranking these three algorithms, we have decision tree, logistic regression, and naive bayes. This is very similar with the R project with the contention between the decision tree and logistic regression being with the margins of 1-2% accuracy. \n",
    "\n",
    "Some of the predictors may not have been independent so the naive assumption that they are may have limited the performance of the naives bayes model. This is most likely the reason it was outperformed by logistic regression and the decision tree. Logistic regression searches for a single linear decision boundary whereas the decision tree partitions the feature space into half spaces for a boundary but in this case the effect was more or less the same. However, because decision trees are so flexible, the model may have been prone to overfitting and logistic regression was less susceptible here. Maybe if any pruning was done, the accuracy could have increased. All in all, this was a battle of bias-variance tradeoff and logistic won, very slightly, and naive bayes struggled against the size of the data set.\n",
    "\n",
    "Interestingly, naive bayes ran the fastest in Python and logistic regression the slowest, essentially the opposite of what occurred in R.\n",
    "\n",
    "Personally, I lean towards machine learning in R rather than Python perhaps because I have had a longer history of experience with it but also because of ease of explanatory data analysis. There are a wide array of statistical functions and options with plotting and even though I was able to replicate ggplot2 in Python with the plotnine library, there are less nuances with R. I do enjoy the power of Python in that it can be used for almost anything being very flexible. R being very data analysis oriented makes it very useful for just focusing on that. So, to summarize, I believe data analysis and visualization is better done in R but more complicated modeling and deep learning should be done with Python. I think in the long run, I would use Python as it is more powerful and versatile but R will be a personal favorite with it's ease of use."
   ]
  }
 ],
 "metadata": {
  "kernelspec": {
   "display_name": "Python 3",
   "language": "python",
   "name": "python3"
  },
  "language_info": {
   "codemirror_mode": {
    "name": "ipython",
    "version": 3
   },
   "file_extension": ".py",
   "mimetype": "text/x-python",
   "name": "python",
   "nbconvert_exporter": "python",
   "pygments_lexer": "ipython3",
   "version": "3.8.5"
  }
 },
 "nbformat": 4,
 "nbformat_minor": 4
}
